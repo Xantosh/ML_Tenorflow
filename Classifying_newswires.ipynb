{
  "nbformat": 4,
  "nbformat_minor": 0,
  "metadata": {
    "colab": {
      "provenance": [],
      "authorship_tag": "ABX9TyOV3nRVWTZvVLljEHDfSMj0",
      "include_colab_link": true
    },
    "kernelspec": {
      "name": "python3",
      "display_name": "Python 3"
    },
    "language_info": {
      "name": "python"
    },
    "gpuClass": "standard"
  },
  "cells": [
    {
      "cell_type": "markdown",
      "metadata": {
        "id": "view-in-github",
        "colab_type": "text"
      },
      "source": [
        "<a href=\"https://colab.research.google.com/github/Xantosh/ML_Tenorflow/blob/main/Classifying_newswires.ipynb\" target=\"_parent\"><img src=\"https://colab.research.google.com/assets/colab-badge.svg\" alt=\"Open In Colab\"/></a>"
      ]
    },
    {
      "cell_type": "code",
      "execution_count": 2,
      "metadata": {
        "id": "XoP51JOVNOF3",
        "colab": {
          "base_uri": "https://localhost:8080/"
        },
        "outputId": "5add45a5-a4a2-4853-c042-d024c57bf8a0"
      },
      "outputs": [
        {
          "output_type": "stream",
          "name": "stdout",
          "text": [
            "Downloading data from https://storage.googleapis.com/tensorflow/tf-keras-datasets/reuters.npz\n",
            "2110848/2110848 [==============================] - 0s 0us/step\n"
          ]
        }
      ],
      "source": [
        "from tensorflow.keras.datasets import reuters\n",
        "(train_data, train_labels),(test_data, test_labels) = reuters.load_data(num_words=10000)"
      ]
    },
    {
      "cell_type": "code",
      "source": [
        "test_labels[25]"
      ],
      "metadata": {
        "id": "gFdvNUsoNjPp",
        "colab": {
          "base_uri": "https://localhost:8080/"
        },
        "outputId": "d0776530-7875-4efe-a87b-ae6f888e3153"
      },
      "execution_count": 5,
      "outputs": [
        {
          "output_type": "execute_result",
          "data": {
            "text/plain": [
              "3"
            ]
          },
          "metadata": {},
          "execution_count": 5
        }
      ]
    },
    {
      "cell_type": "code",
      "source": [
        "# decoding the sentence back\n",
        "\n",
        "words_index = reuters.get_word_index()\n",
        "reverse_word_index = dict(\n",
        "    [(value, key) for (key, value) in words_index.items()]\n",
        ")\n",
        "\n",
        "decoded_newswire = \" \".join(\n",
        "    [reverse_word_index.get(i-3, \"?\") for i in train_data[0]]\n",
        ")\n",
        "decoded_newswire"
      ],
      "metadata": {
        "id": "RgdZ-lKeOFDV",
        "colab": {
          "base_uri": "https://localhost:8080/",
          "height": 70
        },
        "outputId": "906da5e4-cbdf-4a80-d14c-c4d73313068b"
      },
      "execution_count": 4,
      "outputs": [
        {
          "output_type": "execute_result",
          "data": {
            "text/plain": [
              "'? ? ? said as a result of its december acquisition of space co it expects earnings per share in 1987 of 1 15 to 1 30 dlrs per share up from 70 cts in 1986 the company said pretax net should rise to nine to 10 mln dlrs from six mln dlrs in 1986 and rental operation revenues to 19 to 22 mln dlrs from 12 5 mln dlrs it said cash flow per share this year should be 2 50 to three dlrs reuter 3'"
            ],
            "application/vnd.google.colaboratory.intrinsic+json": {
              "type": "string"
            }
          },
          "metadata": {},
          "execution_count": 4
        }
      ]
    },
    {
      "cell_type": "code",
      "source": [
        "# preparing and encodng the data using multi hot encoding of input data\n",
        "\n",
        "import numpy as np\n",
        "def vectorize_sequences(sequences, dimension=10000): # creates matrix of row of len of data and each having 10k words\n",
        "  results = np.zeros((len(sequences), dimension))\n",
        "  for i, sequence in enumerate(sequences): # loop for creating multi hot encoding\n",
        "    for j in sequence:\n",
        "      results[i, j] = 1\n",
        "  return results"
      ],
      "metadata": {
        "id": "fHv9E8J4xjXY"
      },
      "execution_count": 6,
      "outputs": []
    },
    {
      "cell_type": "code",
      "source": [
        "x_train = vectorize_sequences(train_data)\n",
        "x_test = vectorize_sequences(test_data)"
      ],
      "metadata": {
        "id": "7dMzvLhYzfOH"
      },
      "execution_count": 7,
      "outputs": []
    },
    {
      "cell_type": "code",
      "source": [
        "# using one hot encoding for labels\n",
        "def one_hot_encoding(labels, dimensions=46):\n",
        "  results = np.zeros((len(labels), dimensions))\n",
        "  for i, label in enumerate(labels):\n",
        "    results[i ,label] = 1\n",
        "  return results"
      ],
      "metadata": {
        "id": "bLz8k9tBz930"
      },
      "execution_count": 10,
      "outputs": []
    },
    {
      "cell_type": "code",
      "source": [
        "# vectorized training labels\n",
        "#y_train= one_hot_encoding(train_labels)\n",
        "#y_test = one_hot_encoding(test_labels)\n",
        "#y_train"
      ],
      "metadata": {
        "colab": {
          "base_uri": "https://localhost:8080/"
        },
        "id": "lHSbp6GW0lps",
        "outputId": "fb9e7c4b-1bfc-4c36-8ab6-64b7d9cec632"
      },
      "execution_count": 12,
      "outputs": [
        {
          "output_type": "execute_result",
          "data": {
            "text/plain": [
              "array([[0., 0., 0., ..., 0., 0., 0.],\n",
              "       [0., 0., 0., ..., 0., 0., 0.],\n",
              "       [0., 0., 0., ..., 0., 0., 0.],\n",
              "       ...,\n",
              "       [0., 0., 0., ..., 0., 0., 0.],\n",
              "       [0., 0., 0., ..., 0., 0., 0.],\n",
              "       [0., 0., 0., ..., 0., 0., 0.]])"
            ]
          },
          "metadata": {},
          "execution_count": 12
        }
      ]
    },
    {
      "cell_type": "code",
      "source": [
        "# alt using tensorflow\n",
        "from tensorflow.keras.utils import to_categorical\n",
        "\n",
        "y_train = to_categorical(train_labels)\n",
        "y_test = to_categorical(test_labels)\n",
        "y_train\n"
      ],
      "metadata": {
        "colab": {
          "base_uri": "https://localhost:8080/"
        },
        "id": "aDFHjk4L005S",
        "outputId": "e0b582e2-fb0b-452b-af1c-0668cfd3e0d3"
      },
      "execution_count": 13,
      "outputs": [
        {
          "output_type": "execute_result",
          "data": {
            "text/plain": [
              "array([[0., 0., 0., ..., 0., 0., 0.],\n",
              "       [0., 0., 0., ..., 0., 0., 0.],\n",
              "       [0., 0., 0., ..., 0., 0., 0.],\n",
              "       ...,\n",
              "       [0., 0., 0., ..., 0., 0., 0.],\n",
              "       [0., 0., 0., ..., 0., 0., 0.],\n",
              "       [0., 0., 0., ..., 0., 0., 0.]], dtype=float32)"
            ]
          },
          "metadata": {},
          "execution_count": 13
        }
      ]
    },
    {
      "cell_type": "code",
      "source": [
        "# definng the model\n",
        "from tensorflow import keras\n",
        "from tensorflow.keras  import layers\n",
        "\n",
        "model = keras.Sequential([\n",
        "    layers.Dense(64, activation=\"relu\"),\n",
        "    layers.Dense(64, activation=\"relu\"),\n",
        "    layers.Dense(46, activation=\"softmax\")\n",
        "])"
      ],
      "metadata": {
        "id": "QU0X8mWw1ryJ"
      },
      "execution_count": 16,
      "outputs": []
    },
    {
      "cell_type": "code",
      "source": [
        "# compiling the model\n",
        "model.compile(\n",
        "    optimizer=\"rmsprop\",\n",
        "    loss = \"categorical_crossentropy\",\n",
        "    metrics = \"accuracy\"\n",
        ")"
      ],
      "metadata": {
        "id": "ZD8jOYzh21RJ"
      },
      "execution_count": 17,
      "outputs": []
    },
    {
      "cell_type": "code",
      "source": [
        "# setting a validation test\n",
        "\n",
        "x_val = x_train[:1000]\n",
        "partial_x_train = x_train[1000:]\n",
        "y_val = y_train[:1000]\n",
        "partial_y_train = y_train[1000:]"
      ],
      "metadata": {
        "id": "_BG6MaSa3a6C"
      },
      "execution_count": 18,
      "outputs": []
    },
    {
      "cell_type": "code",
      "source": [
        "# training the model\n",
        "history = model.fit(\n",
        "    partial_x_train,\n",
        "    partial_y_train,\n",
        "    epochs = 20,\n",
        "    batch_size = 512,\n",
        "    validation_data = (x_val, y_val)\n",
        ")"
      ],
      "metadata": {
        "colab": {
          "base_uri": "https://localhost:8080/"
        },
        "id": "4GZBKUQE4BLY",
        "outputId": "768dfd18-6ebf-41c6-d89f-28f7da35d20d"
      },
      "execution_count": 19,
      "outputs": [
        {
          "output_type": "stream",
          "name": "stdout",
          "text": [
            "Epoch 1/20\n",
            "16/16 [==============================] - 2s 65ms/step - loss: 3.0876 - accuracy: 0.5182 - val_loss: 2.0796 - val_accuracy: 0.6560\n",
            "Epoch 2/20\n",
            "16/16 [==============================] - 1s 47ms/step - loss: 1.5909 - accuracy: 0.7097 - val_loss: 1.3796 - val_accuracy: 0.7200\n",
            "Epoch 3/20\n",
            "16/16 [==============================] - 1s 56ms/step - loss: 1.0991 - accuracy: 0.7764 - val_loss: 1.1760 - val_accuracy: 0.7440\n",
            "Epoch 4/20\n",
            "16/16 [==============================] - 1s 93ms/step - loss: 0.8545 - accuracy: 0.8220 - val_loss: 1.0522 - val_accuracy: 0.7780\n",
            "Epoch 5/20\n",
            "16/16 [==============================] - 1s 75ms/step - loss: 0.6846 - accuracy: 0.8583 - val_loss: 0.9882 - val_accuracy: 0.8020\n",
            "Epoch 6/20\n",
            "16/16 [==============================] - 1s 47ms/step - loss: 0.5518 - accuracy: 0.8882 - val_loss: 0.9524 - val_accuracy: 0.8140\n",
            "Epoch 7/20\n",
            "16/16 [==============================] - 1s 48ms/step - loss: 0.4505 - accuracy: 0.9074 - val_loss: 0.9126 - val_accuracy: 0.8150\n",
            "Epoch 8/20\n",
            "16/16 [==============================] - 1s 48ms/step - loss: 0.3712 - accuracy: 0.9238 - val_loss: 0.9080 - val_accuracy: 0.8200\n",
            "Epoch 9/20\n",
            "16/16 [==============================] - 1s 52ms/step - loss: 0.3081 - accuracy: 0.9334 - val_loss: 0.9299 - val_accuracy: 0.8120\n",
            "Epoch 10/20\n",
            "16/16 [==============================] - 1s 51ms/step - loss: 0.2651 - accuracy: 0.9420 - val_loss: 0.9606 - val_accuracy: 0.8060\n",
            "Epoch 11/20\n",
            "16/16 [==============================] - 1s 47ms/step - loss: 0.2252 - accuracy: 0.9468 - val_loss: 0.9417 - val_accuracy: 0.8200\n",
            "Epoch 12/20\n",
            "16/16 [==============================] - 1s 58ms/step - loss: 0.1982 - accuracy: 0.9489 - val_loss: 0.9957 - val_accuracy: 0.8050\n",
            "Epoch 13/20\n",
            "16/16 [==============================] - 1s 47ms/step - loss: 0.1777 - accuracy: 0.9523 - val_loss: 0.9877 - val_accuracy: 0.8120\n",
            "Epoch 14/20\n",
            "16/16 [==============================] - 1s 45ms/step - loss: 0.1607 - accuracy: 0.9543 - val_loss: 1.0206 - val_accuracy: 0.8080\n",
            "Epoch 15/20\n",
            "16/16 [==============================] - 1s 45ms/step - loss: 0.1527 - accuracy: 0.9541 - val_loss: 0.9999 - val_accuracy: 0.8140\n",
            "Epoch 16/20\n",
            "16/16 [==============================] - 1s 46ms/step - loss: 0.1377 - accuracy: 0.9557 - val_loss: 1.0056 - val_accuracy: 0.8250\n",
            "Epoch 17/20\n",
            "16/16 [==============================] - 1s 45ms/step - loss: 0.1320 - accuracy: 0.9567 - val_loss: 1.1182 - val_accuracy: 0.7900\n",
            "Epoch 18/20\n",
            "16/16 [==============================] - 1s 63ms/step - loss: 0.1261 - accuracy: 0.9564 - val_loss: 1.1117 - val_accuracy: 0.7980\n",
            "Epoch 19/20\n",
            "16/16 [==============================] - 1s 91ms/step - loss: 0.1233 - accuracy: 0.9574 - val_loss: 1.1051 - val_accuracy: 0.8040\n",
            "Epoch 20/20\n",
            "16/16 [==============================] - 1s 63ms/step - loss: 0.1214 - accuracy: 0.9575 - val_loss: 1.1351 - val_accuracy: 0.7910\n"
          ]
        }
      ]
    },
    {
      "cell_type": "code",
      "source": [
        "# plotting the training and validation loss\n",
        "import matplotlib.pyplot as plt\n",
        "loss = history.history[\"loss\"]\n",
        "val_loss = history.history[\"val_loss\"]\n",
        "epochs = range(1 , len(loss) + 1)\n",
        "plt.plot(epochs, loss, \"bo\", label=\"Training_Loss\")\n",
        "plt.plot(epochs, val_loss, \"b\", label=\"Validation_Loss\")\n",
        "plt.title(\"Training and Validation Loss\")\n",
        "plt.xlabel(\"Epochs\")\n",
        "plt.ylabel(\"Loss\")\n",
        "plt.legend()\n",
        "plt.show()"
      ],
      "metadata": {
        "colab": {
          "base_uri": "https://localhost:8080/",
          "height": 295
        },
        "id": "N_Kt4CQQ4k7n",
        "outputId": "87e22ca2-1528-4f2b-d2f9-c0a25f107ed2"
      },
      "execution_count": 21,
      "outputs": [
        {
          "output_type": "display_data",
          "data": {
            "text/plain": [
              "<Figure size 432x288 with 1 Axes>"
            ],
            "image/png": "[encoded data removed]"
          },
          "metadata": {
            "needs_background": "light"
          }
        }
      ]
    },
    {
      "cell_type": "code",
      "source": [
        "# plotting training and validation accuracy\n",
        "plt.clf()  # clears existing figure\n",
        "accuracy = history.history[\"accuracy\"]\n",
        "val_accuracy = history.history[\"val_accuracy\"]\n",
        "plt.plot(epochs, accuracy, \"bo\", label = \"Training accuracy\")\n",
        "plt.plot(epochs, val_accuracy, \"b\", label=\"Vlidation_Accuracy\")\n",
        "plt.title(\"Training and Validation Accuracy\")\n",
        "plt.xlabel(\"Epochs\")\n",
        "plt.ylabel(\"Accuracy\")\n",
        "plt.legend()\n",
        "plt.show()"
      ],
      "metadata": {
        "colab": {
          "base_uri": "https://localhost:8080/",
          "height": 295
        },
        "id": "NIOHs94C4zZc",
        "outputId": "be0213f9-dba1-4667-e3b8-65b78e76efe7"
      },
      "execution_count": 22,
      "outputs": [
        {
          "output_type": "display_data",
          "data": {
            "text/plain": [
              "<Figure size 432x288 with 1 Axes>"
            ],
            "image/png": "[encoded data removed]"
          },
          "metadata": {
            "needs_background": "light"
          }
        }
      ]
    },
    {
      "cell_type": "code",
      "source": [
        "from re import X\n",
        "# SINCE MODEL STARTS TO OVERFIT AFTER 9 EPOCHS LETS TRAIN THE MODEL AGAIN\n",
        "model =  keras.Sequential([\n",
        "    layers.Dense(64, activation = \"relu\"),\n",
        "    layers.Dense(64, activation=\"relu\"),\n",
        "    layers.Dense(46, activation=\"softmax\")\n",
        "])\n",
        "\n",
        "model.compile(\n",
        "    optimizer = \"rmsprop\",\n",
        "    loss = \"categorical_crossentropy\",\n",
        "    metrics = [\"accuracy\"]\n",
        ")\n",
        "\n",
        "model.fit(\n",
        "    x_train,\n",
        "    y_train,\n",
        "    epochs = 9,\n",
        "    batch_size = 512\n",
        ")\n",
        "\n",
        "results = model.evaluate(x_test, y_test)"
      ],
      "metadata": {
        "colab": {
          "base_uri": "https://localhost:8080/"
        },
        "id": "jxbPonm6749S",
        "outputId": "cae7697d-04e6-43b6-dffe-e0b31acb4820"
      },
      "execution_count": 25,
      "outputs": [
        {
          "output_type": "stream",
          "name": "stdout",
          "text": [
            "Epoch 1/9\n",
            "18/18 [==============================] - 2s 51ms/step - loss: 2.5713 - accuracy: 0.5271\n",
            "Epoch 2/9\n",
            "18/18 [==============================] - 1s 47ms/step - loss: 1.3923 - accuracy: 0.7145\n",
            "Epoch 3/9\n",
            "18/18 [==============================] - 1s 55ms/step - loss: 1.0393 - accuracy: 0.7756\n",
            "Epoch 4/9\n",
            "18/18 [==============================] - 1s 51ms/step - loss: 0.8199 - accuracy: 0.8262\n",
            "Epoch 5/9\n",
            "18/18 [==============================] - 1s 84ms/step - loss: 0.6512 - accuracy: 0.8627\n",
            "Epoch 6/9\n",
            "18/18 [==============================] - 2s 137ms/step - loss: 0.5213 - accuracy: 0.8903\n",
            "Epoch 7/9\n",
            "18/18 [==============================] - 2s 89ms/step - loss: 0.4194 - accuracy: 0.9112\n",
            "Epoch 8/9\n",
            "18/18 [==============================] - 1s 65ms/step - loss: 0.3470 - accuracy: 0.9238\n",
            "Epoch 9/9\n",
            "18/18 [==============================] - 1s 74ms/step - loss: 0.2843 - accuracy: 0.9378\n",
            "71/71 [==============================] - 1s 10ms/step - loss: 0.9556 - accuracy: 0.7912\n"
          ]
        }
      ]
    },
    {
      "cell_type": "code",
      "source": [
        "results   # (test_loss, test_accuracy)"
      ],
      "metadata": {
        "colab": {
          "base_uri": "https://localhost:8080/"
        },
        "id": "3WYhSeAW9KlI",
        "outputId": "0672ad10-85f8-44ce-b929-87d2bb73616f"
      },
      "execution_count": 26,
      "outputs": [
        {
          "output_type": "execute_result",
          "data": {
            "text/plain": [
              "[0.9556369781494141, 0.7911843061447144]"
            ]
          },
          "metadata": {},
          "execution_count": 26
        }
      ]
    },
    {
      "cell_type": "code",
      "source": [
        "# testing accuracy with random classifier\n",
        "import copy\n",
        "test_labels_copy = copy.copy(test_labels)\n",
        "np.random.shuffle(test_labels_copy)\n",
        "hits_array = np.array(test_labels) == np.array(test_labels_copy)\n",
        "hits_array.mean()"
      ],
      "metadata": {
        "colab": {
          "base_uri": "https://localhost:8080/"
        },
        "id": "lTbmddjR9qst",
        "outputId": "1d292475-6c3c-47ee-a324-9137577bd15d"
      },
      "execution_count": 28,
      "outputs": [
        {
          "output_type": "execute_result",
          "data": {
            "text/plain": [
              "0.18521816562778273"
            ]
          },
          "metadata": {},
          "execution_count": 28
        }
      ]
    },
    {
      "cell_type": "code",
      "source": [
        "# random classifier has accuracy of 18%"
      ],
      "metadata": {
        "id": "WbbyVsMx-NfI"
      },
      "execution_count": null,
      "outputs": []
    }
  ]
}