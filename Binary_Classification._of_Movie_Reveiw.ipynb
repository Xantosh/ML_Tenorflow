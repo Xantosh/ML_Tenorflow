{
  "nbformat": 4,
  "nbformat_minor": 0,
  "metadata": {
    "colab": {
      "provenance": [],
      "authorship_tag": "ABX9TyPSKezOoTU54MHMrPpoQ5I+",
      "include_colab_link": true
    },
    "kernelspec": {
      "name": "python3",
      "display_name": "Python 3"
    },
    "language_info": {
      "name": "python"
    },
    "gpuClass": "standard"
  },
  "cells": [
    {
      "cell_type": "markdown",
      "metadata": {
        "id": "view-in-github",
        "colab_type": "text"
      },
      "source": [
        "<a href=\"https://colab.research.google.com/github/Xantosh/ML_Tenorflow/blob/main/Binary_Classification.ipynb\" target=\"_parent\"><img src=\"https://colab.research.google.com/assets/colab-badge.svg\" alt=\"Open In Colab\"/></a>"
      ]
    },
    {
      "cell_type": "markdown",
      "source": [
        "Loading the IMDB dataset\n",
        "\n"
      ],
      "metadata": {
        "id": "kmQEHy8dh_ds"
      }
    },
    {
      "cell_type": "code",
      "execution_count": 1,
      "metadata": {
        "id": "v4CA6aPLgBWw",
        "colab": {
          "base_uri": "https://localhost:8080/"
        },
        "outputId": "5182fac2-bf80-47db-d5cc-db8b53077735"
      },
      "outputs": [
        {
          "output_type": "stream",
          "name": "stdout",
          "text": [
            "Downloading data from https://storage.googleapis.com/tensorflow/tf-keras-datasets/imdb.npz\n",
            "17464789/17464789 [==============================] - 0s 0us/step\n"
          ]
        }
      ],
      "source": [
        "from tensorflow.keras.datasets import imdb\n",
        "(train_data, train_labels), (test_data, test_labels) = imdb.load_data(num_words = 10000)"
      ]
    },
    {
      "cell_type": "code",
      "source": [
        "len(train_data)"
      ],
      "metadata": {
        "id": "6s5ZzlK8gq0m",
        "colab": {
          "base_uri": "https://localhost:8080/"
        },
        "outputId": "7e5d1796-ab1d-47ee-ac06-29624f97c7b5"
      },
      "execution_count": 2,
      "outputs": [
        {
          "output_type": "execute_result",
          "data": {
            "text/plain": [
              "25000"
            ]
          },
          "metadata": {},
          "execution_count": 2
        }
      ]
    },
    {
      "cell_type": "code",
      "source": [
        "test_labels[1]"
      ],
      "metadata": {
        "id": "dw56nSX6gwVs",
        "colab": {
          "base_uri": "https://localhost:8080/"
        },
        "outputId": "4f73f5c6-2b64-40e2-ea56-ff4591fbea68"
      },
      "execution_count": 3,
      "outputs": [
        {
          "output_type": "execute_result",
          "data": {
            "text/plain": [
              "1"
            ]
          },
          "metadata": {},
          "execution_count": 3
        }
      ]
    },
    {
      "cell_type": "code",
      "source": [
        "max([max(sequence) for sequence in train_data])"
      ],
      "metadata": {
        "id": "3vok5BS0hONR",
        "colab": {
          "base_uri": "https://localhost:8080/"
        },
        "outputId": "28859662-5daf-430c-e78e-c8dbbd2bc400"
      },
      "execution_count": 4,
      "outputs": [
        {
          "output_type": "execute_result",
          "data": {
            "text/plain": [
              "9999"
            ]
          },
          "metadata": {},
          "execution_count": 4
        }
      ]
    },
    {
      "cell_type": "code",
      "source": [
        "# Decoding reveiws back to text"
      ],
      "metadata": {
        "id": "mWE6tJiliYVv"
      },
      "execution_count": 5,
      "outputs": []
    },
    {
      "cell_type": "code",
      "source": [
        "word_index = imdb.get_word_index()\n",
        "# word_index\n",
        "reverse_word_index = dict((value, key) for (key, value) in word_index.items())\n",
        "#reverse_word_index\n",
        "\n",
        "# if less than 0 or equal to 0 then dictionary returns \"?\"\n",
        "\n",
        "decoded_review = \" \".join([reverse_word_index.get(i-3, \"?\") for i in train_data[0]])\n",
        "decoded_review"
      ],
      "metadata": {
        "id": "y9qpfHj6ieIT",
        "colab": {
          "base_uri": "https://localhost:8080/",
          "height": 174
        },
        "outputId": "a7dff9da-e054-4af0-8e88-c47a3c15733b"
      },
      "execution_count": 6,
      "outputs": [
        {
          "output_type": "stream",
          "name": "stdout",
          "text": [
            "Downloading data from https://storage.googleapis.com/tensorflow/tf-keras-datasets/imdb_word_index.json\n",
            "1641221/1641221 [==============================] - 0s 0us/step\n"
          ]
        },
        {
          "output_type": "execute_result",
          "data": {
            "text/plain": [
              "\"? this film was just brilliant casting location scenery story direction everyone's really suited the part they played and you could just imagine being there robert ? is an amazing actor and now the same being director ? father came from the same scottish island as myself so i loved the fact there was a real connection with this film the witty remarks throughout the film were great it was just brilliant so much that i bought the film as soon as it was released for ? and would recommend it to everyone to watch and the fly fishing was amazing really cried at the end it was so sad and you know what they say if you cry at a film it must have been good and this definitely was also ? to the two little boy's that played the ? of norman and paul they were just brilliant children are often left out of the ? list i think because the stars that play them all grown up are such a big profile for the whole film but these children are amazing and should be praised for what they have done don't you think the whole story was so lovely because it was true and was someone's life after all that was shared with us all\""
            ],
            "application/vnd.google.colaboratory.intrinsic+json": {
              "type": "string"
            }
          },
          "metadata": {},
          "execution_count": 6
        }
      ]
    },
    {
      "cell_type": "code",
      "source": [
        "# Preparing the data\n",
        "# Encoding the integer sequence using multi-hot encoding"
      ],
      "metadata": {
        "id": "aU9eSboLimhP"
      },
      "execution_count": 7,
      "outputs": []
    },
    {
      "cell_type": "code",
      "source": [
        "import numpy as np\n",
        "def vectorize_sequences(sequences, dimension=10000): # creates matrix of row of 25000 and each having 10k words\n",
        "  results = np.zeros((len(sequences), dimension))\n",
        "  for i, sequence in enumerate(sequences): # loop for creating multi hot encoding\n",
        "    for j in sequence:\n",
        "      results[i, j] = 1\n",
        "  return results\n"
      ],
      "metadata": {
        "id": "jbtn1O6Znd8d"
      },
      "execution_count": 8,
      "outputs": []
    },
    {
      "cell_type": "code",
      "source": [
        "x_train = vectorize_sequences(train_data)\n",
        "x_test = vectorize_sequences(test_data)\n",
        "\n",
        "# vectorizing the labels\n",
        "y_train = np.asarray(train_labels).astype(\"float32\")\n",
        "y_test = np.asarray(test_labels).astype(\"float32\")"
      ],
      "metadata": {
        "id": "Y8EuLZfh6-TR"
      },
      "execution_count": 9,
      "outputs": []
    },
    {
      "cell_type": "code",
      "source": [
        "#Building the model\n",
        "# Model definition\n",
        "\n",
        "from tensorflow import keras\n",
        "from tensorflow.keras import layers\n",
        "\n",
        "model = keras.Sequential([\n",
        "    layers.Dense(16, activation=\"relu\"),\n",
        "    layers.Dense(16, activation=\"relu\"),\n",
        "    layers.Dense(1, activation=\"sigmoid\")\n",
        "])"
      ],
      "metadata": {
        "id": "KyovuKWG75g-"
      },
      "execution_count": 10,
      "outputs": []
    },
    {
      "cell_type": "code",
      "source": [
        "#compiling the model\n",
        "model.compile(optimizer = \"rmsprop\",\n",
        "              loss = \"binary_crossentropy\",\n",
        "              metrics = [\"accuracy\"])"
      ],
      "metadata": {
        "id": "nB4XFh25-Wpx"
      },
      "execution_count": 11,
      "outputs": []
    },
    {
      "cell_type": "code",
      "source": [
        "# setting asisde a validation test\n",
        "x_val = x_train[:10000]\n",
        "partial_x_train = x_train[10000:]\n",
        "y_val = y_train[:10000]\n",
        "partial_y_train = y_train[10000:]"
      ],
      "metadata": {
        "id": "aBQrHF1a-_MV"
      },
      "execution_count": 12,
      "outputs": []
    },
    {
      "cell_type": "code",
      "source": [
        "# training the model\n",
        "history = model.fit(partial_x_train,\n",
        "                    partial_y_train,\n",
        "                    epochs=20,\n",
        "                    batch_size=512,\n",
        "                    validation_data=(x_val, y_val))"
      ],
      "metadata": {
        "id": "mTqdoEvt_kcF",
        "colab": {
          "base_uri": "https://localhost:8080/"
        },
        "outputId": "2bdd8eef-f0eb-46e2-b877-d26bc34adb49"
      },
      "execution_count": 13,
      "outputs": [
        {
          "output_type": "stream",
          "name": "stdout",
          "text": [
            "Epoch 1/20\n",
            "30/30 [==============================] - 2s 45ms/step - loss: 0.5127 - accuracy: 0.7861 - val_loss: 0.3982 - val_accuracy: 0.8527\n",
            "Epoch 2/20\n",
            "30/30 [==============================] - 1s 31ms/step - loss: 0.3072 - accuracy: 0.9013 - val_loss: 0.3286 - val_accuracy: 0.8717\n",
            "Epoch 3/20\n",
            "30/30 [==============================] - 1s 30ms/step - loss: 0.2208 - accuracy: 0.9294 - val_loss: 0.2805 - val_accuracy: 0.8879\n",
            "Epoch 4/20\n",
            "30/30 [==============================] - 1s 31ms/step - loss: 0.1771 - accuracy: 0.9423 - val_loss: 0.2812 - val_accuracy: 0.8844\n",
            "Epoch 5/20\n",
            "30/30 [==============================] - 1s 31ms/step - loss: 0.1415 - accuracy: 0.9547 - val_loss: 0.2802 - val_accuracy: 0.8889\n",
            "Epoch 6/20\n",
            "30/30 [==============================] - 1s 30ms/step - loss: 0.1171 - accuracy: 0.9643 - val_loss: 0.3053 - val_accuracy: 0.8826\n",
            "Epoch 7/20\n",
            "30/30 [==============================] - 1s 30ms/step - loss: 0.0957 - accuracy: 0.9724 - val_loss: 0.3821 - val_accuracy: 0.8662\n",
            "Epoch 8/20\n",
            "30/30 [==============================] - 1s 30ms/step - loss: 0.0795 - accuracy: 0.9783 - val_loss: 0.3567 - val_accuracy: 0.8783\n",
            "Epoch 9/20\n",
            "30/30 [==============================] - 1s 31ms/step - loss: 0.0661 - accuracy: 0.9818 - val_loss: 0.3721 - val_accuracy: 0.8753\n",
            "Epoch 10/20\n",
            "30/30 [==============================] - 1s 30ms/step - loss: 0.0536 - accuracy: 0.9866 - val_loss: 0.3853 - val_accuracy: 0.8788\n",
            "Epoch 11/20\n",
            "30/30 [==============================] - 1s 29ms/step - loss: 0.0436 - accuracy: 0.9890 - val_loss: 0.4524 - val_accuracy: 0.8648\n",
            "Epoch 12/20\n",
            "30/30 [==============================] - 1s 30ms/step - loss: 0.0337 - accuracy: 0.9923 - val_loss: 0.4531 - val_accuracy: 0.8739\n",
            "Epoch 13/20\n",
            "30/30 [==============================] - 1s 32ms/step - loss: 0.0293 - accuracy: 0.9939 - val_loss: 0.4798 - val_accuracy: 0.8711\n",
            "Epoch 14/20\n",
            "30/30 [==============================] - 1s 30ms/step - loss: 0.0224 - accuracy: 0.9962 - val_loss: 0.5080 - val_accuracy: 0.8722\n",
            "Epoch 15/20\n",
            "30/30 [==============================] - 1s 30ms/step - loss: 0.0206 - accuracy: 0.9957 - val_loss: 0.5359 - val_accuracy: 0.8707\n",
            "Epoch 16/20\n",
            "30/30 [==============================] - 1s 30ms/step - loss: 0.0109 - accuracy: 0.9994 - val_loss: 0.5852 - val_accuracy: 0.8689\n",
            "Epoch 17/20\n",
            "30/30 [==============================] - 1s 30ms/step - loss: 0.0151 - accuracy: 0.9963 - val_loss: 0.6068 - val_accuracy: 0.8675\n",
            "Epoch 18/20\n",
            "30/30 [==============================] - 1s 30ms/step - loss: 0.0065 - accuracy: 0.9997 - val_loss: 0.6371 - val_accuracy: 0.8659\n",
            "Epoch 19/20\n",
            "30/30 [==============================] - 1s 30ms/step - loss: 0.0098 - accuracy: 0.9975 - val_loss: 0.6712 - val_accuracy: 0.8662\n",
            "Epoch 20/20\n",
            "30/30 [==============================] - 1s 29ms/step - loss: 0.0037 - accuracy: 0.9999 - val_loss: 0.7686 - val_accuracy: 0.8538\n"
          ]
        }
      ]
    },
    {
      "cell_type": "code",
      "source": [
        "# plotting the training and validation loss\n",
        "import matplotlib.pyplot as plt\n",
        "history_dict = history.history\n",
        "loss_values = history_dict[\"loss\"]\n",
        "val_loss_values = history_dict[\"val_loss\"]\n",
        "epochs = range(1, len(loss_values) + 1)\n",
        "plt.plot(epochs, loss_values, \"bo\", label=\"Training loss\")\n",
        "plt.plot(epochs, val_loss_values, \"b\", label=\"Validation loss\")\n",
        "plt.title(\"Training and Vlidation loss\")\n",
        "plt.xlabel(\"Epochs\")\n",
        "plt.ylabel(\"Loss\")\n",
        "plt.legend()\n",
        "plt.show()"
      ],
      "metadata": {
        "id": "5uvpjplL_kei",
        "colab": {
          "base_uri": "https://localhost:8080/",
          "height": 295
        },
        "outputId": "08762636-bd79-4507-c2f9-86be8c7be532"
      },
      "execution_count": 16,
      "outputs": [
        {
          "output_type": "display_data",
          "data": {
            "text/plain": [
              "<Figure size 432x288 with 1 Axes>"
            ],
            "image/png": "[encoded data removed]"
          },
          "metadata": {
            "needs_background": "light"
          }
        }
      ]
    },
    {
      "cell_type": "code",
      "source": [
        "# Plotting the training and validation accuracy\n",
        "plt.clf()\n",
        "acc = history_dict[\"accuracy\"]\n",
        "val_acc = history_dict[\"val_accuracy\"]\n",
        "plt.plot(epochs, acc, \"bo\", label=\"Training Accuracy\")\n",
        "plt.plot(epochs, val_acc, \"b\", label=\"Validation Accuracy\")\n",
        "plt.title(\"Training and Validation Accuracy\")\n",
        "plt.xlabel(\"Epochs\")\n",
        "plt.ylabel(\"Accuracy\")\n",
        "plt.legend()\n",
        "plt.show()"
      ],
      "metadata": {
        "colab": {
          "base_uri": "https://localhost:8080/",
          "height": 295
        },
        "id": "jVSgCoqTgU_7",
        "outputId": "0a5b51d3-982e-49b3-a8a3-0e296e716fed"
      },
      "execution_count": 19,
      "outputs": [
        {
          "output_type": "display_data",
          "data": {
            "text/plain": [
              "<Figure size 432x288 with 1 Axes>"
            ],
            "image/png": "[encoded data removed]"
          },
          "metadata": {
            "needs_background": "light"
          }
        }
      ]
    },
    {
      "cell_type": "code",
      "source": [
        "# Retraining the model from scrath because of overfitting\n",
        "\n",
        "model = keras.Sequential([\n",
        "    layers.Dense(16, activation=\"relu\"),\n",
        "    layers.Dense(16, activation=\"relu\"),\n",
        "    layers.Dense(1, activation=\"sigmoid\")\n",
        "])\n",
        "\n",
        "model.compile(\n",
        "    optimizer=\"rmsprop\",\n",
        "    loss=\"binary_crossentropy\",\n",
        "    metrics=[\"accuracy\"]\n",
        ")\n",
        "\n",
        "model.fit(x_train, y_train, epochs=4, batch_size=512)\n",
        "results = model.evaluate(x_test, y_test)"
      ],
      "metadata": {
        "colab": {
          "base_uri": "https://localhost:8080/"
        },
        "id": "v02sRKy_jPCg",
        "outputId": "50a5adf4-1056-47a0-9ad0-453d3d24739e"
      },
      "execution_count": 21,
      "outputs": [
        {
          "output_type": "stream",
          "name": "stdout",
          "text": [
            "Epoch 1/4\n",
            "49/49 [==============================] - 3s 26ms/step - loss: 0.4505 - accuracy: 0.8196\n",
            "Epoch 2/4\n",
            "49/49 [==============================] - 1s 28ms/step - loss: 0.2577 - accuracy: 0.9106\n",
            "Epoch 3/4\n",
            "49/49 [==============================] - 1s 25ms/step - loss: 0.1986 - accuracy: 0.9302\n",
            "Epoch 4/4\n",
            "49/49 [==============================] - 1s 24ms/step - loss: 0.1669 - accuracy: 0.9425\n",
            "782/782 [==============================] - 2s 2ms/step - loss: 0.3315 - accuracy: 0.8680\n"
          ]
        }
      ]
    },
    {
      "cell_type": "code",
      "source": [
        "results    # [trainng_loss, accuracy]"
      ],
      "metadata": {
        "colab": {
          "base_uri": "https://localhost:8080/"
        },
        "id": "FYXu0e5hkUyv",
        "outputId": "b3102629-f6b6-41d0-c1c0-f5fae090388a"
      },
      "execution_count": 22,
      "outputs": [
        {
          "output_type": "execute_result",
          "data": {
            "text/plain": [
              "[0.33147570490837097, 0.8679599761962891]"
            ]
          },
          "metadata": {},
          "execution_count": 22
        }
      ]
    },
    {
      "cell_type": "code",
      "source": [
        "model.predict(x_test)"
      ],
      "metadata": {
        "colab": {
          "base_uri": "https://localhost:8080/"
        },
        "id": "_qSoGQABld7T",
        "outputId": "74815e56-aa8e-4dba-85cd-48c1e0e099de"
      },
      "execution_count": 23,
      "outputs": [
        {
          "output_type": "stream",
          "name": "stdout",
          "text": [
            "782/782 [==============================] - 1s 2ms/step\n"
          ]
        },
        {
          "output_type": "execute_result",
          "data": {
            "text/plain": [
              "array([[0.13234195],\n",
              "       [0.99994427],\n",
              "       [0.60358226],\n",
              "       ...,\n",
              "       [0.07346331],\n",
              "       [0.05050628],\n",
              "       [0.5229523 ]], dtype=float32)"
            ]
          },
          "metadata": {},
          "execution_count": 23
        }
      ]
    }
  ]
}
